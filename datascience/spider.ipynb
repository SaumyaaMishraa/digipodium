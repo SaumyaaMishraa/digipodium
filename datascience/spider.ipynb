{
 "cells": [
  {
   "cell_type": "code",
   "execution_count": 2,
   "metadata": {},
   "outputs": [],
   "source": [
    "from dputils import scrape"
   ]
  },
  {
   "cell_type": "code",
   "execution_count": 3,
   "metadata": {},
   "outputs": [
    {
     "name": "stderr",
     "output_type": "stream",
     "text": [
      "Error occurred during loading data. Trying to use cache server https://fake-useragent.herokuapp.com/browsers/0.1.11\n",
      "Traceback (most recent call last):\n",
      "  File \"c:\\Users\\saumy\\anaconda3\\lib\\site-packages\\fake_useragent\\utils.py\", line 154, in load\n",
      "    for item in get_browsers(verify_ssl=verify_ssl):\n",
      "  File \"c:\\Users\\saumy\\anaconda3\\lib\\site-packages\\fake_useragent\\utils.py\", line 99, in get_browsers\n",
      "    html = html.split('<table class=\"w3-table-all notranslate\">')[1]\n",
      "IndexError: list index out of range\n"
     ]
    }
   ],
   "source": [
    "soup =scrape.get_webpage_data('https://www.ndtv.com/latest')\n"
   ]
  },
  {
   "cell_type": "code",
   "execution_count": 4,
   "metadata": {},
   "outputs": [],
   "source": [
    "t={'tag':'div','attrs':{'class':'lisingNews'}}\n",
    "items= {'tag':'div','attrs':{'class':'news_Itm'}}\n",
    "title= {'tag':'h2','attrs':{'class':'newsHdng'}}\n",
    "deet ={'tag':'span','attrs':{'class':'posted-by'}}\n",
    "summary= {'tag':'p','attrs':{'class':'newsCont'}}"
   ]
  },
  {
   "cell_type": "code",
   "execution_count": 5,
   "metadata": {},
   "outputs": [
    {
     "name": "stdout",
     "output_type": "stream",
     "text": [
      "17 items found\n",
      "Item skipped at index: 3\n",
      "Item skipped at index: 7\n",
      "All items extracted\n",
      "[{'details': 'NDTV Sports Desk   | Thursday September 29, 2022',\n",
      "  'summary': 'IND vs SA: Rohit Sharma met his young fans in the crowd and gave '\n",
      "             'them autographs. The kids and the entire crowd was overjoyed at '\n",
      "             'getting to interact with the batting icon.',\n",
      "  'title': 'Watch: Young Fans Overjoyed As Rohit Sharma Gives Autographs In '\n",
      "           'Kerala After 1st T20 vs South Africa'},\n",
      " {'details': 'Edited by Pranita Chaubey  | Thursday September 29, 2022, New '\n",
      "             'Delhi',\n",
      "  'summary': \"Fans loved the actress' dance performance\",\n",
      "  'title': 'Navratri 2022: A Quick Garba Tutorial From Sonali Bendre'},\n",
      " {'details': 'Edited by Nikhil Pandey  | Thursday September 29, 2022',\n",
      "  'summary': 'The RBI has mandated that all credit and debit card information '\n",
      "             'used for online transactions be replaced with unique tokens.',\n",
      "  'title': 'Tokenisation: Know the Advantages, Features, and Its Impact on '\n",
      "           'You'},\n",
      " {'details': 'Edited by Saikat Kumar Bose  | Thursday September 29, 2022, New '\n",
      "             'Delhi',\n",
      "  'summary': 'Amid hectic meetings in the run-up to the Congress president '\n",
      "             'election, senior party leaders Shashi Tharoor and Digvijaya '\n",
      "             'Singh -- both contenders for the top post -- met and wished each '\n",
      "             'other the best for the upcoming contest.',\n",
      "  'title': 'Shashi Tharoor Captions Meet With Digvijaya Singh, Now Congress '\n",
      "           'Contenders'},\n",
      " {'details': 'Asian News International   | Thursday September 29, 2022, '\n",
      "             'Dehradun',\n",
      "  'summary': 'Uttarakhand Police on Thursday lodged a case against RSS leader '\n",
      "             'Vipin Karnwal who allegedly made objectionable comments on '\n",
      "             '19-year-old Ankita Bhandari by terming her as \"raw milk\" before '\n",
      "             '\"hungry male cats\" and blamed her father for her death.',\n",
      "  'title': 'RSS Leader Terms Murdered Uttarakhand Teen As \"Raw Milk\", Case '\n",
      "           'Filed'},\n",
      " {'details': 'Reuters   | Thursday September 29, 2022, FRANKFURT',\n",
      "  'summary': \"Shares in Volkswagen's sportscar brand Porsche started trading \"\n",
      "             \"on Thursday in what marks Germany's second-largest listing ever \"\n",
      "             'as well as a new phase in a sometimes fraught relationship '\n",
      "             'between the two auto brands that goes back decades.',\n",
      "  'title': \"The Long, Winding Road To Volkswagen's Porsche Initial Public \"\n",
      "           'Offering'},\n",
      " {'details': 'Press Trust of India   | Thursday September 29, 2022, New Delhi',\n",
      "  'summary': 'The Delhi Commission For Women (DCW) has recommended hospitals '\n",
      "             'to conduct mandatory HIV tests of sexual assault survivors on '\n",
      "             'their first visit.',\n",
      "  'title': \"Women's Body Recommends Mandatory HIV Tests Of Sexual Assault \"\n",
      "           'Survivors'},\n",
      " {'details': 'Reuters   | Thursday September 29, 2022',\n",
      "  'summary': 'Oil prices fell on Thursday, with a stronger dollar paring the '\n",
      "             \"previous day's more than $3 gain, though losses were capped by \"\n",
      "             'indications that the OPEC+ producer group might cut output.',\n",
      "  'title': 'Oil Drops On Dollar Strength, But Oil Producers Talks Offer '\n",
      "           'Support'},\n",
      " {'details': 'NDTV Sports Desk   | Thursday September 29, 2022',\n",
      "  'summary': \"In what could be a huge blow to India's hopes of performing well \"\n",
      "             'at the upcoming ICC T20 World Cup in Australia, premier paceman '\n",
      "             'Jasprit Bumrah is set to be ruled out of the tournament with a '\n",
      "             'back stress fracture, news agency PTI reported citing BCCI '\n",
      "             'sources.',\n",
      "  'title': 'Jasprit Bumrah Ruled Out Of T20 World Cup Due To Stress Fracture: '\n",
      "           'Report'},\n",
      " {'details': 'Reported by Manish Kumar, Edited by Chandrajit Mitra  | Thursday '\n",
      "             'September 29, 2022, Patna',\n",
      "  'summary': 'Dangling from a speeding train, a thief was seen begging for his '\n",
      "             'life, moments before he was dragged inside and thrashed for '\n",
      "             \"trying to snatch a passenger's mobile phone.\",\n",
      "  'title': 'Video: Bihar Thief Was Dangled From Train, Then Dragged Inside, '\n",
      "           'Thrashed'},\n",
      " {'details': 'Press Trust of India   | Thursday September 29, 2022, Hyderabad',\n",
      "  'summary': 'Schneider Electric, a digital transformation of energy '\n",
      "             'management and automation company, on Thursday held the ground '\n",
      "             'breaking ceremony of its upcoming Rs 300 crore state-of-the-art '\n",
      "             'smart facility at GMR Industrial Park near here.',\n",
      "  'title': 'Schneider Lays Foundation For Rs 300 Crore Smart Factory In '\n",
      "           'Telangana'},\n",
      " {'details': 'Gauri Rohatgi   | Thursday September 29, 2022',\n",
      "  'summary': 'If you love experimenting with food just like us, we bring you a '\n",
      "             'few vrat-friendly dosa recipes that are sure to tug at your '\n",
      "             'heartstrings. Take a look below.',\n",
      "  'title': 'Navratri 2022: 5 Vrat-Friendly Dosa Recipes You Must Try'},\n",
      " {'details': 'Priyaja Bakshi   | Thursday September 29, 2022',\n",
      "  'summary': 'Our love for this cuisine has helped us find some of the most '\n",
      "             'delicious veg gravies you can make at home.',\n",
      "  'title': '5 Mughlai Curries Every Vegetarian Will Enjoy'},\n",
      " {'details': 'Edited by Samiran Mishra  | Thursday September 29, 2022, '\n",
      "             'Guwahati',\n",
      "  'summary': 'Several people are missing after a boat overturned in the '\n",
      "             \"Brahmaputra River in Assam's Dhubri district on Thursday.\",\n",
      "  'title': 'Assam Officials Among 10 Missing After Boat Overturns In '\n",
      "           'Brahmaputra'},\n",
      " {'details': 'NDTV Sports Desk   | Thursday September 29, 2022',\n",
      "  'summary': \"Suryakumar Yadav's strike-rate in 2022 is a whopping 180.29, \"\n",
      "             'while his career strike-rate is a staggering 173.35 across 32 '\n",
      "             'games.',\n",
      "  'title': \"Suryakumar Yadav Cements His Status As India's Top T20I Batter \"\n",
      "           'With Big Record'}]\n"
     ]
    }
   ],
   "source": [
    "result= scrape.extract_many(soup,target=t,items=items,title=title, details=deet,summary=summary)\n",
    "from pprint import pprint\n",
    "pprint(result)"
   ]
  }
 ],
 "metadata": {
  "kernelspec": {
   "display_name": "Python 3.8.5 ('base')",
   "language": "python",
   "name": "python3"
  },
  "language_info": {
   "codemirror_mode": {
    "name": "ipython",
    "version": 3
   },
   "file_extension": ".py",
   "mimetype": "text/x-python",
   "name": "python",
   "nbconvert_exporter": "python",
   "pygments_lexer": "ipython3",
   "version": "3.8.5"
  },
  "orig_nbformat": 4,
  "vscode": {
   "interpreter": {
    "hash": "db9c0a6a99aab0947214b0f4a05a2e2356b59a0db8c7f977eacdf715e4f3a630"
   }
  }
 },
 "nbformat": 4,
 "nbformat_minor": 2
}
